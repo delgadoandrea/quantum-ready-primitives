{
 "cells": [
  {
   "cell_type": "code",
   "execution_count": 11,
   "metadata": {},
   "outputs": [],
   "source": [
    "import numpy as np\n",
    "import matplotlib.pyplot as plt\n",
    "import time\n",
    "import psutil\n",
    "from tenpy.models import SpinChain\n",
    "from tenpy.algorithms import dmrg\n",
    "from tenpy.algorithms.dmrg import DMRGEngine\n",
    "from tenpy.networks.mps import MPS\n",
    "from tenpy.networks.site import SpinHalfSite"
   ]
  },
  {
   "cell_type": "code",
   "execution_count": 14,
   "metadata": {},
   "outputs": [
    {
     "ename": "TypeError",
     "evalue": "'module' object is not callable",
     "output_type": "error",
     "traceback": [
      "\u001b[0;31m---------------------------------------------------------------------------\u001b[0m",
      "\u001b[0;31mTypeError\u001b[0m                                 Traceback (most recent call last)",
      "Cell \u001b[0;32mIn[14], line 45\u001b[0m\n\u001b[1;32m     38\u001b[0m dmrg_params \u001b[38;5;241m=\u001b[39m {\n\u001b[1;32m     39\u001b[0m     \u001b[38;5;124m\"\u001b[39m\u001b[38;5;124mmixer\u001b[39m\u001b[38;5;124m\"\u001b[39m: \u001b[38;5;28;01mTrue\u001b[39;00m,              \u001b[38;5;66;03m# Mixer to avoid local minima\u001b[39;00m\n\u001b[1;32m     40\u001b[0m     \u001b[38;5;124m\"\u001b[39m\u001b[38;5;124mtrunc_params\u001b[39m\u001b[38;5;124m\"\u001b[39m: {\u001b[38;5;124m\"\u001b[39m\u001b[38;5;124msvd_min\u001b[39m\u001b[38;5;124m\"\u001b[39m: \u001b[38;5;241m1e-10\u001b[39m},  \u001b[38;5;66;03m# Truncation tolerance\u001b[39;00m\n\u001b[1;32m     41\u001b[0m     \u001b[38;5;124m\"\u001b[39m\u001b[38;5;124mchi_max\u001b[39m\u001b[38;5;124m\"\u001b[39m: \u001b[38;5;241m100\u001b[39m,             \u001b[38;5;66;03m# Maximum bond dimension (limits memory usage)\u001b[39;00m\n\u001b[1;32m     42\u001b[0m }\n\u001b[1;32m     44\u001b[0m \u001b[38;5;66;03m# Initialize and run the DMRGEngine\u001b[39;00m\n\u001b[0;32m---> 45\u001b[0m eng \u001b[38;5;241m=\u001b[39m dmrg(psi, model, dmrg_params)\n\u001b[1;32m     46\u001b[0m eng\u001b[38;5;241m.\u001b[39mrun()  \u001b[38;5;66;03m# Run DMRG in place; modifies `psi`\u001b[39;00m\n\u001b[1;32m     48\u001b[0m runtime \u001b[38;5;241m=\u001b[39m time\u001b[38;5;241m.\u001b[39mtime() \u001b[38;5;241m-\u001b[39m start_time  \u001b[38;5;66;03m# Calculate runtime\u001b[39;00m\n",
      "\u001b[0;31mTypeError\u001b[0m: 'module' object is not callable"
     ]
    }
   ],
   "source": [
    "# Set up the range of spins to test\n",
    "spin_range = range(20, 101, 10)  # From 20 to 100 spins in steps of 10\n",
    "heisenberg_memory_usage = []\n",
    "heisenberg_runtime = []\n",
    "\n",
    "# Function to estimate memory usage (in MB) for the current process\n",
    "def get_memory_usage():\n",
    "    process = psutil.Process()\n",
    "    memory_info = process.memory_info()\n",
    "    return memory_info.rss / (1024 ** 2)  # Convert bytes to MB\n",
    "\n",
    "# Run DMRG for each system size and track metrics\n",
    "for n_spins in spin_range:\n",
    "    # Define Heisenberg model parameters\n",
    "    model_params = {\n",
    "        \"S\": 0.5,            # Spin-1/2 system\n",
    "        \"L\": n_spins,        # Length of the spin chain\n",
    "        \"Jx\": 1.0,           # Coupling in the x-direction\n",
    "        \"Jy\": 1.0,           # Coupling in the y-direction\n",
    "        \"Jz\": 1.0,           # Coupling in the z-direction\n",
    "        \"bc_MPS\": \"finite\",  # Boundary conditions for MPS\n",
    "    }\n",
    "    \n",
    "    # Initialize Heisenberg model using TenPy\n",
    "    model = SpinChain(model_params)\n",
    "\n",
    "    # Create an initial MPS (wavefunction) for the DMRG algorithm\n",
    "    spin_site = SpinHalfSite()\n",
    "    psi = MPS.from_product_state([spin_site] * n_spins, [\"up\"] * n_spins, bc=\"finite\")\n",
    "    \n",
    "    # Track initial memory usage before DMRG\n",
    "    initial_memory = get_memory_usage()\n",
    "    \n",
    "    # Track runtime for DMRG simulation\n",
    "    start_time = time.time()\n",
    "    \n",
    "    # Run DMRG algorithm\n",
    "    dmrg_params = {\n",
    "        \"mixer\": True,              # Mixer to avoid local minima\n",
    "        \"trunc_params\": {\"svd_min\": 1e-10},  # Truncation tolerance\n",
    "        \"chi_max\": 100,             # Maximum bond dimension (limits memory usage)\n",
    "    }\n",
    "    \n",
    "    # Initialize and run the DMRGEngine\n",
    "    eng = dmrg(psi, model, dmrg_params)\n",
    "    eng.run()  # Run DMRG in place; modifies `psi`\n",
    "    \n",
    "    runtime = time.time() - start_time  # Calculate runtime\n",
    "    energy = eng.e_ground_state  # Access the ground state energy\n",
    "    \n",
    "    # Track memory usage after DMRG\n",
    "    final_memory = get_memory_usage()\n",
    "    memory_usage = final_memory - initial_memory  # Memory used by DMRG process in MB\n",
    "    \n",
    "    # Append metrics\n",
    "    heisenberg_memory_usage.append(memory_usage)\n",
    "    heisenberg_runtime.append(runtime)\n",
    "    \n",
    "    print(f\"Spins: {n_spins}, Energy: {E:.4f}, Memory Usage: {memory_usage:.2f} MB, Runtime: {runtime:.2f} seconds\")\n",
    "\n",
    "# Plotting the memory usage and runtime as functions of the number of spins\n",
    "fig, axs = plt.subplots(1, 2, figsize=(14, 6))\n",
    "\n",
    "# Plot memory usage\n",
    "axs[0].plot(spin_range, heisenberg_memory_usage, label=\"Heisenberg Ground State (DMRG)\", marker='o')\n",
    "axs[0].set_xlabel(\"Number of Spins\")\n",
    "axs[0].set_ylabel(\"Memory Usage (MB)\")\n",
    "axs[0].set_title(\"Memory Usage for Heisenberg Ground State Preparation with DMRG\")\n",
    "axs[0].legend()\n",
    "\n",
    "# Plot runtime\n",
    "axs[1].plot(spin_range, heisenberg_runtime, label=\"Heisenberg Ground State (DMRG)\", marker='o')\n",
    "axs[1].set_xlabel(\"Number of Spins\")\n",
    "axs[1].set_ylabel(\"Runtime (seconds)\")\n",
    "axs[1].set_title(\"Runtime for Heisenberg Ground State Preparation with DMRG\")\n",
    "axs[1].legend()\n",
    "\n",
    "plt.tight_layout()\n",
    "plt.show()"
   ]
  },
  {
   "cell_type": "code",
   "execution_count": null,
   "metadata": {},
   "outputs": [],
   "source": []
  }
 ],
 "metadata": {
  "kernelspec": {
   "display_name": "base",
   "language": "python",
   "name": "python3"
  },
  "language_info": {
   "codemirror_mode": {
    "name": "ipython",
    "version": 3
   },
   "file_extension": ".py",
   "mimetype": "text/x-python",
   "name": "python",
   "nbconvert_exporter": "python",
   "pygments_lexer": "ipython3",
   "version": "3.12.4"
  }
 },
 "nbformat": 4,
 "nbformat_minor": 2
}
